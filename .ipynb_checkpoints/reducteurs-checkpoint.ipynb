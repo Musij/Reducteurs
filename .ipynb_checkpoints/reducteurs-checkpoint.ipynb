{
 "cells": [
  {
   "cell_type": "markdown",
   "metadata": {},
   "source": [
    "# Kiva : le robot qui permet à Amazon de livrer à vitesse grand V\n",
    "\n",
    "## Mise en situation\n",
    "\n",
    "<p style=\"text-align:justify\";>L'entreprise Amazon utilise ce petit robot orange qui se bougent au milieu des cartons et des étagères sans rechigner à la tâche avec comme objectif, accroître le gain de productivité de l'entreprise. Il a la force d'Hercule puisque il est capable <strong>de soulever 280 kilogramme</strong> et vif comme l'éclair puisqu'il peut se déplacer à <strong>une vitesse de 2 m/s</strong>. Il se glisse sous les étagères pour les rendre mobiles. Quand les produits arrivent, il se présente avec des rayonnages vides auprès de l’employé pour qu’il les range. Et quand une commande est passée, il apporte l’étagère où se trouve la marchandise concernée auprès du manutentionnaire chargé de la sélectionner. </p>"
   ]
  },
  {
   "cell_type": "markdown",
   "metadata": {},
   "source": [
    "## Problématique 1\n",
    "                 \n",
    "**De quoi est constituée la chaine d'énergie du système afin de permettre le robot de se déplacer à cette vitesse?**\n",
    "                 "
   ]
  },
  {
   "cell_type": "markdown",
   "metadata": {},
   "source": [
    "## Situation n°1\n",
    " On propose la **chaine d'énergie** suivante:\n"
   ]
  },
  {
   "cell_type": "markdown",
   "metadata": {},
   "source": [
    "<img src=\"annexes/CE1.jpg\" alt=\"Image Chaine energie\" width=\"656\" />"
   ]
  },
  {
   "cell_type": "markdown",
   "metadata": {},
   "source": [
    "pour vérifier que cette chaîne d'énergie est correcte, il faudrait comparer <font size=\"3\"> **_Ne_** </font> avec <font size=\"3\"> **_Nmoteur_** </font>. Pour résoudre, on utilisera la calculette Python  et la vidéo suivante :\n",
    "<p style=\"text-align:center\";>\n",
    "    <video alt=\"CpasSorcier: les fous du vélo\" width=\"320\" height=\"240\" controls>\n",
    "<source src=\"annexes/CpasSorcier.mp4\" type=\"video/mp4\">\n",
    "</video> </p>"
   ]
  },
  {
   "cell_type": "markdown",
   "metadata": {},
   "source": [
    "### *Exemple d'utilisation de la calculette*"
   ]
  },
  {
   "cell_type": "markdown",
   "metadata": {},
   "source": [
    "_calcul du perimetre de la roue_ avec affichage de la valeur"
   ]
  },
  {
   "cell_type": "code",
   "execution_count": 7,
   "metadata": {},
   "outputs": [
    {
     "name": "stdout",
     "output_type": "stream",
     "text": [
      "le périmètre vaut : 141.3716694115407 mm\n"
     ]
    }
   ],
   "source": [
    "from math import *       #on importe la bibliothèque Python pour utiliser les outils mathématiques\n",
    "D=45                     #je définis le diamètre dde mes roues. \n",
    "perimetre=pi*D           #je calcule le périmètre de ma roue\n",
    "print(\"le périmètre vaut :\",perimetre,\"mm\")"
   ]
  },
  {
   "cell_type": "markdown",
   "metadata": {},
   "source": [
    "#### Mon premier programme Python\n",
    "<p>Essayer de construire votre programme qui calcule la distance parcourue par le robot pour 1 tour de roue</p>\n",
    "<p>diamètre des roues : $\\emptyset=125 mm $"
   ]
  },
  {
   "cell_type": "code",
   "execution_count": null,
   "metadata": {},
   "outputs": [],
   "source": [
    "D=                                  #diamètre en mètre\n",
    "perimetre=\n",
    "deplacement=                        #Valeur de déplacement pour 1 tour de roue du robot en mètre\n",
    "print(\"le déplacement du robot pour un tour de roue est égal à : \",deplacement,\"m\")"
   ]
  },
  {
   "cell_type": "markdown",
   "metadata": {},
   "source": [
    "Essayer de construire votre programme qui calcule la distance parcourue par le robot en 1 seconde"
   ]
  },
  {
   "cell_type": "code",
   "execution_count": null,
   "metadata": {},
   "outputs": [],
   "source": [
    "N=9280         #fréquence de rotation du moteur en tr/min c'est-à-dire nombre de tours faits en 1 minute\n",
    "w=             #fréquence de rotation en tr/s c'est-à-dire nombre de tours faits en 1 seconde\n",
    "vitesse=\n",
    "print(\"le robot se déplace à une vitesse de :\",vitesse,\"m/s\")"
   ]
  },
  {
   "cell_type": "markdown",
   "metadata": {},
   "source": [
    "## Situation n°2\n",
    " On propose la **chaine d'énergie** suivante:"
   ]
  },
  {
   "cell_type": "markdown",
   "metadata": {},
   "source": [
    "<img src=\"annexes/CE2.jpg\" alt=\"Image Chaine energie\" width=\"656\" />"
   ]
  },
  {
   "cell_type": "markdown",
   "metadata": {},
   "source": [
    "### Objectif\n",
    "Proposer un algorithme qui permettrait de définir la dimension des engrenages pour un réducteur\n",
    "\n",
    "### Données\n",
    "<p>Rapport de réduction: $r=\\frac {1} {30}$</p>\n",
    "<p>Nombre de dents mini pour la roue dentée motrice: Zm=10</p>\n",
    "<p>Nombre de dents maxi pour la roue dentée de la roue: Zr=xx</p>\n"
   ]
  },
  {
   "cell_type": "markdown",
   "metadata": {},
   "source": [
    "<p style=\"text-align:center\";> <video alt=\"Video Kuva en action\" width=\"320\" height=\"240\" controls>\n",
    "<source src=\"annexes/Les_engrenages.mp4\" type=\"video/mp4\">\n",
    "</video> </p>"
   ]
  },
  {
   "cell_type": "markdown",
   "metadata": {},
   "source": [
    "\n",
    "<p>En cliquant sur le site, <a href=\"http://www.gearsket.ch/\"> Gearsket</a>, dessinez 4 roues dentées . </p>\n",
    "<img src=\"annexes/Capture.jpg\" alt=\"Image reducteur à refaire\" width=\"656\" />\n",
    "<P>A l'aide de la calculette python ci-dessous, calculer le premier rapport de réduction.</p>\n",
    "<p> </p>\n",
    "\n",
    "##### Calculette Python"
   ]
  },
  {
   "cell_type": "code",
   "execution_count": 5,
   "metadata": {},
   "outputs": [
    {
     "ename": "SyntaxError",
     "evalue": "invalid syntax (<ipython-input-5-64c0be3d4d2f>, line 1)",
     "output_type": "error",
     "traceback": [
      "\u001b[1;36m  File \u001b[1;32m\"<ipython-input-5-64c0be3d4d2f>\"\u001b[1;36m, line \u001b[1;32m1\u001b[0m\n\u001b[1;33m    Zm =\u001b[0m\n\u001b[1;37m        ^\u001b[0m\n\u001b[1;31mSyntaxError\u001b[0m\u001b[1;31m:\u001b[0m invalid syntax\n"
     ]
    }
   ],
   "source": [
    "Zm=\n",
    "Z1i=            #Roue dentée intermédiaire\n",
    "reduc1=\n",
    "print(\"le rapport de reduction vaut :\",reduc1)"
   ]
  },
  {
   "cell_type": "markdown",
   "metadata": {},
   "source": [
    "<p> A l'aide de la calculette python ci-dessous, calculer le deuxième rapport de réduction. </p>\n",
    "<p> </p>\n",
    "\n",
    "##### Calculette Python"
   ]
  },
  {
   "cell_type": "code",
   "execution_count": null,
   "metadata": {},
   "outputs": [],
   "source": [
    "Z2i=\n",
    "Zr=\n",
    "reduc2=\n",
    "print"
   ]
  },
  {
   "cell_type": "markdown",
   "metadata": {},
   "source": [
    "Trouver la relation entre les Z (Zm, Z1i, Z2i, Zr) et écrire un programme qui calcule le rapport de réduction total."
   ]
  },
  {
   "cell_type": "code",
   "execution_count": 6,
   "metadata": {},
   "outputs": [
    {
     "ename": "SyntaxError",
     "evalue": "invalid syntax (<ipython-input-6-b9a023ca25a3>, line 1)",
     "output_type": "error",
     "traceback": [
      "\u001b[1;36m  File \u001b[1;32m\"<ipython-input-6-b9a023ca25a3>\"\u001b[1;36m, line \u001b[1;32m1\u001b[0m\n\u001b[1;33m    Zm=\u001b[0m\n\u001b[1;37m       ^\u001b[0m\n\u001b[1;31mSyntaxError\u001b[0m\u001b[1;31m:\u001b[0m invalid syntax\n"
     ]
    }
   ],
   "source": [
    "Zm=\n",
    "Z1i=\n",
    "Z2i=\n",
    "Zr=\n",
    "reduc=\n",
    "print(\"le rapport de réduction est = \",)"
   ]
  },
  {
   "cell_type": "markdown",
   "metadata": {},
   "source": [
    "## Problématique 2\n",
    "                 \n",
    "**Quelle taille doivent avoir mes roues dentées pour respecter la vitesse désiréee?**\n",
    "\n",
    "\n",
    "### Algorithme de programmation\n",
    "\n",
    "<pre><code>je demande le nombre de dents du pignon moteur.\n",
    "Je demande le nombre de dents maximum pour l'engrenage de la roue.\n",
    "Je demande le rapport de réduction désiré.\n",
    "pour toutes les valeurs de Z1i allant de Zm à Zr  je fais:\n",
    "    pour toutes les valeurs de Z2i allant de Zm à Zr je fais : \n",
    "                je calcul le rapport de réduction avec mes valeurs\n",
    "                si la valeur du rapport est proche à + ou - 1 du rapport de réduction dérisé alors:\n",
    "                    j'affiche les valeurs de Z2i et z1i \n",
    " </code></pre> \n",
    "          "
   ]
  },
  {
   "cell_type": "code",
   "execution_count": 8,
   "metadata": {},
   "outputs": [
    {
     "ename": "SyntaxError",
     "evalue": "invalid syntax (<ipython-input-8-4661d8a8edde>, line 2)",
     "output_type": "error",
     "traceback": [
      "\u001b[1;36m  File \u001b[1;32m\"<ipython-input-8-4661d8a8edde>\"\u001b[1;36m, line \u001b[1;32m2\u001b[0m\n\u001b[1;33m    Zr=                                                            #Je demande le nombre de dents maximum de l'engrenage de la roue\u001b[0m\n\u001b[1;37m                                                                                                                                   ^\u001b[0m\n\u001b[1;31mSyntaxError\u001b[0m\u001b[1;31m:\u001b[0m invalid syntax\n"
     ]
    }
   ],
   "source": [
    "Zm=int(input(\"Donner le nombre de dents du pignon moteur: \"))    #Je demande le nombre de dents du pignon et je stocke la valeur\n",
    "Zr=                                                            #Je demande le nombre de dents maximum de l'engrenage de la roue\n",
    "reduc=float(input(\"Donner la valeur du rapport de réduction désiré: \")) #je demande et stocke la veleur du rapport de réduction\n",
    "for Z1i in range(Zm,Zr):                                 # Pour toutes les valeurs de Z1i allant de Zm à Zr\n",
    "    for :\n",
    "        reduc_calcul=\n",
    "        if :\n",
    "            print\n"
   ]
  }
 ],
 "metadata": {
  "kernelspec": {
   "display_name": "Python 3",
   "language": "python",
   "name": "python3"
  },
  "language_info": {
   "codemirror_mode": {
    "name": "ipython",
    "version": 3
   },
   "file_extension": ".py",
   "mimetype": "text/x-python",
   "name": "python",
   "nbconvert_exporter": "python",
   "pygments_lexer": "ipython3",
   "version": "3.7.4"
  }
 },
 "nbformat": 4,
 "nbformat_minor": 4
}
